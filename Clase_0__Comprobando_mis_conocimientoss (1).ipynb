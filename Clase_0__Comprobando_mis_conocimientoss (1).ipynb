{
  "nbformat": 4,
  "nbformat_minor": 0,
  "metadata": {
    "colab": {
      "provenance": []
    },
    "kernelspec": {
      "name": "python3",
      "display_name": "Python 3"
    },
    "language_info": {
      "name": "python"
    }
  },
  "cells": [
    {
      "cell_type": "markdown",
      "source": [
        "#Prueba de evaluacion de conocimientos\n"
      ],
      "metadata": {
        "id": "T1Xkj5KYFTNp"
      }
    },
    {
      "cell_type": "markdown",
      "source": [
        "##Tipo de datos\n",
        "1. Numerico\n",
        "- Entero: Int\n",
        "- Decimal: float\n",
        "2. Alfanumerico o cadena de caracteres.\n",
        "(String - str)\n",
        "3. Logico: Boolean - bool\n",
        "4. Lista: List []\n",
        "5. Diccionario: dict {}\n",
        "\n",
        "Para saber que tipo de datos estamos manipulando, se usa la funcion type()"
      ],
      "metadata": {
        "id": "_DtUmtcNFtxg"
      }
    },
    {
      "cell_type": "code",
      "execution_count": null,
      "metadata": {
        "colab": {
          "base_uri": "https://localhost:8080/"
        },
        "id": "tXsOWedjErw9",
        "outputId": "bb8000e9-5cf4-4e29-d8b1-d7c56e99d797"
      },
      "outputs": [
        {
          "output_type": "execute_result",
          "data": {
            "text/plain": [
              "17"
            ]
          },
          "metadata": {},
          "execution_count": 1
        }
      ],
      "source": [
        "5+3*4\n"
      ]
    },
    {
      "cell_type": "code",
      "source": [
        "type(5+3*4)"
      ],
      "metadata": {
        "colab": {
          "base_uri": "https://localhost:8080/"
        },
        "id": "EZ2c4iFLHMJw",
        "outputId": "a2a7b4f4-92dd-4005-f8db-89371293231e"
      },
      "execution_count": null,
      "outputs": [
        {
          "output_type": "execute_result",
          "data": {
            "text/plain": [
              "int"
            ]
          },
          "metadata": {},
          "execution_count": 2
        }
      ]
    },
    {
      "cell_type": "code",
      "source": [
        "print(f\"5+3*4={5+3*4} y da como resultado un valor de tipo {type(5+3*4)}\")"
      ],
      "metadata": {
        "colab": {
          "base_uri": "https://localhost:8080/"
        },
        "id": "R3LBU1KUHQ7H",
        "outputId": "03d6d32b-2237-45aa-ed1d-db6c7af7eabf"
      },
      "execution_count": null,
      "outputs": [
        {
          "output_type": "stream",
          "name": "stdout",
          "text": [
            "5+3*4=17 y da como resultado un valor de tipo <class 'int'>\n"
          ]
        }
      ]
    },
    {
      "cell_type": "code",
      "source": [
        "#Cuando se usa + en strings, sucede la concatenación\n",
        "\"5\"+\"3\"*2"
      ],
      "metadata": {
        "colab": {
          "base_uri": "https://localhost:8080/",
          "height": 35
        },
        "id": "_2o7MpPUHyRH",
        "outputId": "cee4665a-49d3-4e7b-8645-5dc7d1679ca8"
      },
      "execution_count": null,
      "outputs": [
        {
          "output_type": "execute_result",
          "data": {
            "text/plain": [
              "'533'"
            ],
            "application/vnd.google.colaboratory.intrinsic+json": {
              "type": "string"
            }
          },
          "metadata": {},
          "execution_count": 5
        }
      ]
    },
    {
      "cell_type": "markdown",
      "source": [
        "2 ** 11 == 1000"
      ],
      "metadata": {
        "id": "HV5QJiZsJPgW"
      }
    },
    {
      "cell_type": "code",
      "source": [
        "#= es asignación. == es comparación\n",
        "2 ** 11 == 1000"
      ],
      "metadata": {
        "colab": {
          "base_uri": "https://localhost:8080/"
        },
        "id": "ODcem9cnJU-l",
        "outputId": "2cbd54c6-ac36-43ea-d220-63e6137c874d"
      },
      "execution_count": null,
      "outputs": [
        {
          "output_type": "execute_result",
          "data": {
            "text/plain": [
              "False"
            ]
          },
          "metadata": {},
          "execution_count": 6
        }
      ]
    },
    {
      "cell_type": "markdown",
      "source": [
        "##Operaciones logicas\n",
        "1. Disyunción (o): Una proposicíon es verdadera, si al menos una de ella lo es.En phyton se puede enunciar con la palabra **or** o con **||**.\n",
        "Ejemplo:V OR V da V. V OR F da V. F OR V da V. F OR F da F.\n",
        "2. Conjunción (y): Una preposición es verdadera, si y SOLO SI, ambas preposiciones son verdaderas. En phyton, se utiliza la palabra **and** o **&&** para su uso. Ejemplo: F and F da F;  F and V da F; V and F da F; V and V da V.\n",
        "3. Negación(no): Niega el valor de verdad de una preposición. Si el valor de verdad es true, se vuelve false. En phyton se usa la palabra **not** o ~ para denotarla."
      ],
      "metadata": {
        "id": "LRakF1VPJdqV"
      }
    },
    {
      "cell_type": "code",
      "source": [
        "a=2 ** 11 == 1000 or 2 ** 9 == 100"
      ],
      "metadata": {
        "id": "HH2ZpiLYLmaE"
      },
      "execution_count": null,
      "outputs": []
    },
    {
      "cell_type": "code",
      "source": [
        "print(f\"El valor de la expresión a=2 ** 11 == 1000 or 2 ** 9 == 100 es {a}\")"
      ],
      "metadata": {
        "colab": {
          "base_uri": "https://localhost:8080/"
        },
        "id": "Bevt4RDtLyIk",
        "outputId": "0a4d1d52-aca5-448d-9459-ed7ae1aac4d7"
      },
      "execution_count": null,
      "outputs": [
        {
          "output_type": "stream",
          "name": "stdout",
          "text": [
            "El valor de la expresión a=2 ** 11 == 1000 or 2 ** 9 == 100 es False\n"
          ]
        }
      ]
    },
    {
      "cell_type": "code",
      "source": [
        "#Colocar un tipo de dato antes del dato, se usa para transformar el dato dentro del parentesis en el dato por fuera del parentesis\n",
        "int(\"cincuenta\")"
      ],
      "metadata": {
        "colab": {
          "base_uri": "https://localhost:8080/",
          "height": 141
        },
        "id": "QDIjVQklM3bL",
        "outputId": "77bfe136-bf78-42f6-a436-c6007e98de56"
      },
      "execution_count": null,
      "outputs": [
        {
          "output_type": "error",
          "ename": "ValueError",
          "evalue": "invalid literal for int() with base 10: 'cincuenta'",
          "traceback": [
            "\u001b[0;31m---------------------------------------------------------------------------\u001b[0m",
            "\u001b[0;31mValueError\u001b[0m                                Traceback (most recent call last)",
            "\u001b[0;32m<ipython-input-9-a15ff880c080>\u001b[0m in \u001b[0;36m<cell line: 1>\u001b[0;34m()\u001b[0m\n\u001b[0;32m----> 1\u001b[0;31m \u001b[0mint\u001b[0m\u001b[0;34m(\u001b[0m\u001b[0;34m\"cincuenta\"\u001b[0m\u001b[0;34m)\u001b[0m\u001b[0;34m\u001b[0m\u001b[0;34m\u001b[0m\u001b[0m\n\u001b[0m",
            "\u001b[0;31mValueError\u001b[0m: invalid literal for int() with base 10: 'cincuenta'"
          ]
        }
      ]
    },
    {
      "cell_type": "code",
      "source": [
        "int(\"50\")"
      ],
      "metadata": {
        "colab": {
          "base_uri": "https://localhost:8080/"
        },
        "id": "vHWb1UCLNXkr",
        "outputId": "b8973342-54cc-4cd6-c245-63c7816b78bb"
      },
      "execution_count": null,
      "outputs": [
        {
          "output_type": "execute_result",
          "data": {
            "text/plain": [
              "50"
            ]
          },
          "metadata": {},
          "execution_count": 10
        }
      ]
    },
    {
      "cell_type": "code",
      "source": [
        "str(\"50\")"
      ],
      "metadata": {
        "colab": {
          "base_uri": "https://localhost:8080/",
          "height": 35
        },
        "id": "KRhnNJddNa1C",
        "outputId": "f9ff87a4-c34d-4f1d-8b59-09785352aeef"
      },
      "execution_count": null,
      "outputs": [
        {
          "output_type": "execute_result",
          "data": {
            "text/plain": [
              "'50'"
            ],
            "application/vnd.google.colaboratory.intrinsic+json": {
              "type": "string"
            }
          },
          "metadata": {},
          "execution_count": 11
        }
      ]
    },
    {
      "cell_type": "code",
      "source": [
        "#Siempre que halla una división el resultado dará decimal\n",
        "16/16 + 384/24"
      ],
      "metadata": {
        "colab": {
          "base_uri": "https://localhost:8080/"
        },
        "id": "zqroZI_WOXKZ",
        "outputId": "c573acf9-188d-458e-ec2b-afc3d88b0e83"
      },
      "execution_count": null,
      "outputs": [
        {
          "output_type": "execute_result",
          "data": {
            "text/plain": [
              "17.0"
            ]
          },
          "metadata": {},
          "execution_count": 18
        }
      ]
    },
    {
      "cell_type": "code",
      "source": [
        "print(f\"La opercaión 16/16 + 384/24 da (0) y es e tipo{type(0)} \")"
      ],
      "metadata": {
        "colab": {
          "base_uri": "https://localhost:8080/"
        },
        "id": "v6KG9SG5PGI5",
        "outputId": "040b096f-d948-446e-871b-cfca56ea9cc9"
      },
      "execution_count": null,
      "outputs": [
        {
          "output_type": "stream",
          "name": "stdout",
          "text": [
            "La opercaión 16/16 + 384/24 da (0) y es e tipo<class 'int'> \n"
          ]
        }
      ]
    },
    {
      "cell_type": "code",
      "source": [
        "type(16/16 + 384/24)"
      ],
      "metadata": {
        "colab": {
          "base_uri": "https://localhost:8080/"
        },
        "id": "vvPxJMghO2Ph",
        "outputId": "40387bb1-ef3f-4f21-f753-49c2c5aec03e"
      },
      "execution_count": null,
      "outputs": [
        {
          "output_type": "execute_result",
          "data": {
            "text/plain": [
              "float"
            ]
          },
          "metadata": {},
          "execution_count": 13
        }
      ]
    },
    {
      "cell_type": "code",
      "source": [
        "# % es el modulo de la operación.\n",
        "600 + 18%"
      ],
      "metadata": {
        "colab": {
          "base_uri": "https://localhost:8080/",
          "height": 106
        },
        "id": "vZL94EkkP9oo",
        "outputId": "fb886425-4958-443f-e672-7645560aa2f5"
      },
      "execution_count": null,
      "outputs": [
        {
          "output_type": "error",
          "ename": "SyntaxError",
          "evalue": "invalid syntax (<ipython-input-16-f315390a430a>, line 2)",
          "traceback": [
            "\u001b[0;36m  File \u001b[0;32m\"<ipython-input-16-f315390a430a>\"\u001b[0;36m, line \u001b[0;32m2\u001b[0m\n\u001b[0;31m    600 + 18%\u001b[0m\n\u001b[0m             ^\u001b[0m\n\u001b[0;31mSyntaxError\u001b[0m\u001b[0;31m:\u001b[0m invalid syntax\n"
          ]
        }
      ]
    },
    {
      "cell_type": "code",
      "source": [
        "0 < (4096 & 10) < 6"
      ],
      "metadata": {
        "colab": {
          "base_uri": "https://localhost:8080/"
        },
        "id": "HZcjwGn1Qd7A",
        "outputId": "87ac1563-04ce-41b6-a36e-a3f3ade25817"
      },
      "execution_count": null,
      "outputs": [
        {
          "output_type": "execute_result",
          "data": {
            "text/plain": [
              "False"
            ]
          },
          "metadata": {},
          "execution_count": 19
        }
      ]
    },
    {
      "cell_type": "code",
      "source": [
        "\n",
        "\"Max\" + \"Min\""
      ],
      "metadata": {
        "id": "U9mLT-GaQpBn",
        "outputId": "80703505-8706-4ca3-fd5d-597a6ab75ee0",
        "colab": {
          "base_uri": "https://localhost:8080/",
          "height": 35
        }
      },
      "execution_count": null,
      "outputs": [
        {
          "output_type": "execute_result",
          "data": {
            "text/plain": [
              "'MaxMin'"
            ],
            "application/vnd.google.colaboratory.intrinsic+json": {
              "type": "string"
            }
          },
          "metadata": {},
          "execution_count": 33
        }
      ]
    },
    {
      "cell_type": "code",
      "source": [
        "print(f\"La operación Max + Min da como resultado ({MaxMin}) y es de tipo {type(MaxMin)}\")"
      ],
      "metadata": {
        "colab": {
          "base_uri": "https://localhost:8080/",
          "height": 141
        },
        "id": "xfG2kJ3zQx5Y",
        "outputId": "f7ce1d6f-da91-4bd5-b89d-1e54629b2497"
      },
      "execution_count": null,
      "outputs": [
        {
          "output_type": "error",
          "ename": "NameError",
          "evalue": "name 'MaxMin' is not defined",
          "traceback": [
            "\u001b[0;31m---------------------------------------------------------------------------\u001b[0m",
            "\u001b[0;31mNameError\u001b[0m                                 Traceback (most recent call last)",
            "\u001b[0;32m<ipython-input-36-1dafc057ac37>\u001b[0m in \u001b[0;36m<cell line: 1>\u001b[0;34m()\u001b[0m\n\u001b[0;32m----> 1\u001b[0;31m \u001b[0mprint\u001b[0m\u001b[0;34m(\u001b[0m\u001b[0;34mf\"La operación Max + Min da como resultado ({MaxMin}) y es de tipo {type(MaxMin)}\"\u001b[0m\u001b[0;34m)\u001b[0m\u001b[0;34m\u001b[0m\u001b[0;34m\u001b[0m\u001b[0m\n\u001b[0m",
            "\u001b[0;31mNameError\u001b[0m: name 'MaxMin' is not defined"
          ]
        }
      ]
    },
    {
      "cell_type": "code",
      "source": [
        "#ABC() es una función no definida\n",
        "ABC() * DEF()"
      ],
      "metadata": {
        "colab": {
          "base_uri": "https://localhost:8080/",
          "height": 159
        },
        "id": "h8UpKXzKSeoO",
        "outputId": "c43336eb-bf58-4918-ca48-3dab71ce66a9"
      },
      "execution_count": null,
      "outputs": [
        {
          "output_type": "error",
          "ename": "NameError",
          "evalue": "name 'ABC' is not defined",
          "traceback": [
            "\u001b[0;31m---------------------------------------------------------------------------\u001b[0m",
            "\u001b[0;31mNameError\u001b[0m                                 Traceback (most recent call last)",
            "\u001b[0;32m<ipython-input-37-63dec5ba0ac4>\u001b[0m in \u001b[0;36m<cell line: 2>\u001b[0;34m()\u001b[0m\n\u001b[1;32m      1\u001b[0m \u001b[0;31m#ABC() es una función no definida\u001b[0m\u001b[0;34m\u001b[0m\u001b[0;34m\u001b[0m\u001b[0m\n\u001b[0;32m----> 2\u001b[0;31m \u001b[0mABC\u001b[0m\u001b[0;34m(\u001b[0m\u001b[0;34m)\u001b[0m \u001b[0;34m*\u001b[0m \u001b[0mDEF\u001b[0m\u001b[0;34m(\u001b[0m\u001b[0;34m)\u001b[0m\u001b[0;34m\u001b[0m\u001b[0;34m\u001b[0m\u001b[0m\n\u001b[0m",
            "\u001b[0;31mNameError\u001b[0m: name 'ABC' is not defined"
          ]
        }
      ]
    },
    {
      "cell_type": "markdown",
      "source": [
        "abs(len(\"seis\")-len(\"tres\"))\n",
        "\n",
        "1. abs = valor absoluto\n",
        "2. len = cuenta la cantidad de letras de un string\n",
        "\n",
        "-len('seis') = 4\n",
        "\n",
        "\n",
        "-len('tres') = 4"
      ],
      "metadata": {
        "id": "0VUB7Z1jTan8"
      }
    },
    {
      "cell_type": "code",
      "source": [
        "abs(len(\"seis\")-len(\"tres\"))"
      ],
      "metadata": {
        "colab": {
          "base_uri": "https://localhost:8080/"
        },
        "id": "sc3LHDMBTMWG",
        "outputId": "5e3a44e5-0417-4338-e8ab-e9fe1b6cee75"
      },
      "execution_count": null,
      "outputs": [
        {
          "output_type": "execute_result",
          "data": {
            "text/plain": [
              "0"
            ]
          },
          "metadata": {},
          "execution_count": 38
        }
      ]
    },
    {
      "cell_type": "code",
      "source": [
        "#Todos los numeros a excepción de 0, da true al convertirlos a booleanos\n",
        "bool(1210) or bool(-3465)"
      ],
      "metadata": {
        "colab": {
          "base_uri": "https://localhost:8080/"
        },
        "id": "wJB5PgvJUmOu",
        "outputId": "334674af-7446-423e-cd89-66ebe7b1f1ca"
      },
      "execution_count": null,
      "outputs": [
        {
          "output_type": "execute_result",
          "data": {
            "text/plain": [
              "True"
            ]
          },
          "metadata": {},
          "execution_count": 40
        }
      ]
    },
    {
      "cell_type": "code",
      "source": [
        "int(\"8\"*3)"
      ],
      "metadata": {
        "colab": {
          "base_uri": "https://localhost:8080/"
        },
        "id": "lRukNBgoVF-F",
        "outputId": "206befd7-92be-48cb-df4d-e48d89fa4b53"
      },
      "execution_count": null,
      "outputs": [
        {
          "output_type": "execute_result",
          "data": {
            "text/plain": [
              "888"
            ]
          },
          "metadata": {},
          "execution_count": 42
        }
      ]
    },
    {
      "cell_type": "code",
      "source": [
        "int(\"8\"*3)/3"
      ],
      "metadata": {
        "colab": {
          "base_uri": "https://localhost:8080/"
        },
        "id": "50dpynK3VvM0",
        "outputId": "bcbcb580-0ada-4cb4-eb53-2914090a3ec2"
      },
      "execution_count": null,
      "outputs": [
        {
          "output_type": "execute_result",
          "data": {
            "text/plain": [
              "296.0"
            ]
          },
          "metadata": {},
          "execution_count": 43
        }
      ]
    },
    {
      "cell_type": "code",
      "source": [
        "str(296.0)"
      ],
      "metadata": {
        "colab": {
          "base_uri": "https://localhost:8080/",
          "height": 35
        },
        "id": "hsbG00-lVyzs",
        "outputId": "cf8f3740-9a24-428b-d513-7a614daf32d5"
      },
      "execution_count": null,
      "outputs": [
        {
          "output_type": "execute_result",
          "data": {
            "text/plain": [
              "'296.0'"
            ],
            "application/vnd.google.colaboratory.intrinsic+json": {
              "type": "string"
            }
          },
          "metadata": {},
          "execution_count": 44
        }
      ]
    },
    {
      "cell_type": "code",
      "source": [
        "#Todos los string son listas, por ende, podems conocer la posición de cada uno de sus elementos, en phyton se empieza desde 0\n",
        "str(296.0)[3]"
      ],
      "metadata": {
        "colab": {
          "base_uri": "https://localhost:8080/",
          "height": 35
        },
        "id": "vPsjg9zKWItM",
        "outputId": "f02da339-0f7e-44e9-faeb-b8a9dcb9bb7e"
      },
      "execution_count": null,
      "outputs": [
        {
          "output_type": "execute_result",
          "data": {
            "text/plain": [
              "'.'"
            ],
            "application/vnd.google.colaboratory.intrinsic+json": {
              "type": "string"
            }
          },
          "metadata": {},
          "execution_count": 45
        }
      ]
    }
  ]
}