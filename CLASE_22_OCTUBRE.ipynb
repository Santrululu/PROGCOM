{
  "nbformat": 4,
  "nbformat_minor": 0,
  "metadata": {
    "colab": {
      "provenance": []
    },
    "kernelspec": {
      "name": "python3",
      "display_name": "Python 3"
    },
    "language_info": {
      "name": "python"
    }
  },
  "cells": [
    {
      "cell_type": "code",
      "source": [
        "# prompt: programa que se realice en forma del juego \"silent teacher\" con 10 preguntes de encapsulamiento y 10 preguntas de extraccion\n",
        "\n",
        "import random\n",
        "\n",
        "# Preguntas de encapsulamiento\n",
        "encapsulamiento_preguntas = [\n",
        "    \"¿Qué es la encapsulación en la programación orientada a objetos?\",\n",
        "    \"¿Cuál es el propósito de la encapsulación?\",\n",
        "    \"¿Cómo se logra la encapsulación en Python?\",\n",
        "    \"¿Qué son los atributos privados en la encapsulación?\",\n",
        "    \"¿Cuáles son los beneficios de la encapsulación?\",\n",
        "    \"¿Qué es la ocultación de datos?\",\n",
        "    \"¿Cómo se relaciona la encapsulación con la seguridad del código?\",\n",
        "    \"¿Qué significa que una clase tenga métodos getter y setter?\",\n",
        "    \"¿Puedes dar un ejemplo de encapsulación en un escenario real?\",\n",
        "    \"¿Cómo se implementa la encapsulación en otros lenguajes de programación?\"\n",
        "]\n",
        "\n",
        "# Preguntas de extracción\n",
        "extraccion_preguntas = [\n",
        "    \"¿Qué es la extracción de datos?\",\n",
        "    \"¿Cuáles son los pasos generales para la extracción de datos?\",\n",
        "    \"¿Qué herramientas se pueden utilizar para la extracción de datos?\",\n",
        "    \"¿Qué es un API y cómo se utiliza en la extracción de datos?\",\n",
        "    \"¿Qué es Web Scraping y cuándo se utiliza?\",\n",
        "    \"¿Cuáles son los desafíos de la extracción de datos?\",\n",
        "    \"¿Qué es ETL (Extract, Transform, Load)?\",\n",
        "    \"¿Cómo se almacenan los datos extraídos?\",\n",
        "    \"¿Qué tipos de datos se pueden extraer?\",\n",
        "    \"¿Qué es la integración de datos?\"\n",
        "]\n",
        "\n",
        "def jugar_silent_teacher():\n",
        "  \"\"\"\n",
        "  Función principal del juego Silent Teacher.\n",
        "  \"\"\"\n",
        "  puntaje = 0\n",
        "  preguntas = encapsulamiento_preguntas + extraccion_preguntas\n",
        "  random.shuffle(preguntas)\n",
        "\n",
        "  for pregunta in preguntas:\n",
        "    input(\"Presiona Enter para ver la siguiente pregunta...\")\n",
        "    print(pregunta)\n",
        "    respuesta = input(\"Escribe tu respuesta (o presiona Enter para pasar): \")\n",
        "    if respuesta:\n",
        "      print(\"¡Buena respuesta!\")\n",
        "      puntaje += 1\n",
        "    else:\n",
        "      print(\"Intenta responder la siguiente pregunta.\")\n",
        "\n",
        "  print(\"\\n¡Fin del juego!\")\n",
        "  print(\"Tu puntaje final es:\", puntaje, \"de\", len(preguntas))\n",
        "\n",
        "if __name__ == \"__main__\":\n",
        "  jugar_silent_teacher()"
      ],
      "metadata": {
        "id": "sJBYbGQFqhdD"
      },
      "execution_count": null,
      "outputs": []
    },
    {
      "cell_type": "code",
      "execution_count": null,
      "metadata": {
        "id": "GvJY93BRjjW8"
      },
      "outputs": [],
      "source": [
        "programa que se realice en forma del juego \"silent teacher\" con 10 preguntes de encapsulamiento y 10 preguntas de extraccion\n"
      ]
    }
  ]
}