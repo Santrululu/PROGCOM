{
  "nbformat": 4,
  "nbformat_minor": 0,
  "metadata": {
    "colab": {
      "provenance": []
    },
    "kernelspec": {
      "name": "python3",
      "display_name": "Python 3"
    },
    "language_info": {
      "name": "python"
    }
  },
  "cells": [
    {
      "cell_type": "code",
      "source": [
        "# prompt: programa que se realice en forma del juego \"silent teacher\" con 10 preguntes de encapsulamiento y 10 preguntas de extraccion\n",
        "\n",
        "import random\n",
        "\n",
        "# Preguntas de encapsulamiento\n",
        "encapsulamiento_preguntas = [\n",
        "    \"¿Qué es la encapsulación en la programación orientada a objetos?\",\n",
        "    \"¿Cuál es el propósito de la encapsulación?\",\n",
        "    \"¿Cómo se logra la encapsulación en Python?\",\n",
        "    \"¿Qué son los atributos privados en la encapsulación?\",\n",
        "    \"¿Cuáles son los beneficios de la encapsulación?\",\n",
        "    \"¿Qué es la ocultación de datos?\",\n",
        "    \"¿Cómo se relaciona la encapsulación con la seguridad del código?\",\n",
        "    \"¿Qué significa que una clase tenga métodos getter y setter?\",\n",
        "    \"¿Puedes dar un ejemplo de encapsulación en un escenario real?\",\n",
        "    \"¿Cómo se implementa la encapsulación en otros lenguajes de programación?\"\n",
        "]\n",
        "\n",
        "# Preguntas de extracción\n",
        "extraccion_preguntas = [\n",
        "    \"¿Qué es la abstracción en programación?\",\n",
        "    \"¿Cuál es la diferencia entre abstracción y encapsulación?\",\n",
        "    \"¿Cómo se implementa la abstracción en la programación orientada a objetos?\",\n",
        "    \"¿Qué son las clases abstractas y las interfaces?\",\n",
        "    \"¿Por qué es beneficioso usar abstracción en el diseño de software?\",\n",
        "    \"¿Cómo afecta la abstracción al mantenimiento del código?\",\n",
        "    \"¿Proporciona un ejemplo práctico de abstracción \",\n",
        "    \"¿Qué papel juega la abstracción en la reducción de la complejidad??\",\n",
        "    \"¿Cómo se puede aplicar la abstracción en lenguajes de programación funcionales?\",\n",
        "    \"¿Qué es la integración de datos?\"\n",
        "]\n",
        "\n",
        "def jugar_silent_teacher():\n",
        "  \"\"\"\n",
        "  Función principal del juego Silent Teacher.\n",
        "  \"\"\"\n",
        "  puntaje = 0\n",
        "  preguntas = encapsulamiento_preguntas + extraccion_preguntas\n",
        "  random.shuffle(preguntas)\n",
        "\n",
        "  for pregunta in preguntas:\n",
        "    input(\"Presiona Enter para ver la siguiente pregunta...\")\n",
        "    print(pregunta)\n",
        "    respuesta = input(\"Escribe tu respuesta (o presiona Enter para pasar): \")\n",
        "    if respuesta:\n",
        "      print(\"¡Buena respuesta!\")\n",
        "      puntaje += 1\n",
        "    else:\n",
        "      print(\"Intenta responder la siguiente pregunta.\")\n",
        "\n",
        "  print(\"\\n¡Fin del juego!\")\n",
        "  print(\"Tu puntaje final es:\", puntaje, \"de\", len(preguntas))\n",
        "\n",
        "if __name__ == \"__main__\":\n",
        "  jugar_silent_teacher()"
      ],
      "metadata": {
        "colab": {
          "base_uri": "https://localhost:8080/"
        },
        "id": "sJBYbGQFqhdD",
        "outputId": "470bf0c8-648f-41f3-f2f8-c6f252268340"
      },
      "execution_count": null,
      "outputs": [
        {
          "output_type": "stream",
          "name": "stdout",
          "text": [
            "Presiona Enter para ver la siguiente pregunta...\n",
            "¿Qué tipos de datos se pueden extraer?\n",
            "Escribe tu respuesta (o presiona Enter para pasar): \n",
            "Intenta responder la siguiente pregunta.\n",
            "Presiona Enter para ver la siguiente pregunta...\n",
            "¿Qué es Web Scraping y cuándo se utiliza?\n"
          ]
        }
      ]
    },
    {
      "cell_type": "code",
      "execution_count": null,
      "metadata": {
        "id": "GvJY93BRjjW8"
      },
      "outputs": [],
      "source": [
        "\n"
      ]
    }
  ]
}